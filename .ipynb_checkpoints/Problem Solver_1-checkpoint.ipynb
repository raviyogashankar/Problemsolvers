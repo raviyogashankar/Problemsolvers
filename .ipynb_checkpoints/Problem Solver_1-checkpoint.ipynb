{
 "cells": [
  {
   "cell_type": "markdown",
   "id": "7b3e4c38",
   "metadata": {},
   "source": [
    "### 1. In the below elements which of them are values or an expression? eg:- values can be integer or string and expressions will be mathematical operators.\n",
    "    * \n",
    "    'hello'\n",
    "    -87.8\n",
    "    - \n",
    "    / \n",
    "    +\t\n",
    "    6 \n"
   ]
  },
  {
   "cell_type": "code",
   "execution_count": 2,
   "id": "32bfae2e",
   "metadata": {},
   "outputs": [
    {
     "name": "stdout",
     "output_type": "stream",
     "text": [
      "Values and Strings [6, -8728, 'hello']\n",
      "These are operators ['*', '-', '/', '+']\n"
     ]
    }
   ],
   "source": [
    "opr = [\"*\",\"-\",\"/\",'+']\n",
    "val = [6,-8728,'hello']\n",
    "print(\"Values and Strings\", val)\n",
    "print(\"These are operators\", opr)"
   ]
  },
  {
   "cell_type": "markdown",
   "id": "891e022e",
   "metadata": {},
   "source": [
    "### 2. What is the difference between string and variable?"
   ]
  },
  {
   "cell_type": "code",
   "execution_count": 10,
   "id": "52cef8b3",
   "metadata": {},
   "outputs": [
    {
     "name": "stdout",
     "output_type": "stream",
     "text": [
      "String is a sequence of characters in python usually placed in between single quote, double-quote or triple quote(Doc String)\n",
      "Test Data\n",
      "Variable is used as a reference to store Homo & hetro datatypes in the primary memory, we have loacal and gloabal variables where the scope is different for each of them\n",
      "(2, 10, 25.5, 'hello', (20+30j), True, False)\n"
     ]
    }
   ],
   "source": [
    "print(\"String is a sequence of characters in python usually placed in between single quote, double-quote or triple quote(Doc String)\")\n",
    "string = \"Test Data\"\n",
    "print(string)\n",
    "print(\"Variable is used as a reference to store Homo & hetro datatypes in the primary memory, we have loacal and gloabal variables where the scope is different for each of them\")\n",
    "variable = 2,10,25.5,\"hello\",20+30j,True,False\n",
    "print(variable)"
   ]
  },
  {
   "cell_type": "markdown",
   "id": "ae4ba10e",
   "metadata": {},
   "source": [
    "### 3. Describe three different data types."
   ]
  },
  {
   "cell_type": "code",
   "execution_count": 13,
   "id": "29adea88",
   "metadata": {},
   "outputs": [
    {
     "name": "stdout",
     "output_type": "stream",
     "text": [
      "heterogeneous data types can be included in a list and usually denoted in [] and are mutable\n",
      "[10, 20, 30]\n",
      "heterogeneous data types can be included in a tuple and usually denoted in () and are immutable\n",
      "('Data', 'Test', True)\n",
      "heterogeneous data types can be included in a dict and usually denoted in {} and are always in Key:values pair\n",
      "{'k1': 10, 'k2': 20, 'k3': 40}\n"
     ]
    }
   ],
   "source": [
    "print(\"heterogeneous data types can be included in a list and usually denoted in [] and are mutable\")\n",
    "list_data = [10, 20, 30]\n",
    "print(list_data)\n",
    "print(\"heterogeneous data types can be included in a tuple and usually denoted in () and are immutable\")\n",
    "tuple_data = (\"Data\",\"Test\",True)\n",
    "print(tuple_data )\n",
    "print(\"heterogeneous data types can be included in a dict and usually denoted in {} and are always in Key:values pair\")\n",
    "dictonary = {'k1':10,'k2': 20, 'k3': 40}\n",
    "print(dictonary)"
   ]
  },
  {
   "cell_type": "markdown",
   "id": "ec175425",
   "metadata": {},
   "source": [
    "### 4. What is an expression made up of? What do all expressions do?"
   ]
  },
  {
   "cell_type": "code",
   "execution_count": 31,
   "id": "500011df",
   "metadata": {},
   "outputs": [
    {
     "name": "stdout",
     "output_type": "stream",
     "text": [
      "Expression is a combination of variables, operations and values that contains a retun output\n",
      "30\n"
     ]
    }
   ],
   "source": [
    "print(\"Expression is a combination of variables, operations and values that contains a retun output\")\n",
    "a = 10 # combination of variables\n",
    "b = 20\n",
    "c = a+b #  operations and values that contains a retun output\n",
    "print(c)"
   ]
  },
  {
   "cell_type": "markdown",
   "id": "bfd8b6ad",
   "metadata": {},
   "source": [
    "### 5. This assignment statements, like spam = 10. What is the difference between an expression and a statement?"
   ]
  },
  {
   "cell_type": "code",
   "execution_count": 29,
   "id": "1b6bc6a3",
   "metadata": {},
   "outputs": [
    {
     "name": "stdout",
     "output_type": "stream",
     "text": [
      "Statements represent an action or command\n",
      "Expression is a combination of variables, operations and values that contains a retun output\n"
     ]
    }
   ],
   "source": [
    "spam = 10 \n",
    "print(\"Statements represent an action or command\")\n",
    "print(\"Expression is a combination of variables, operations and values that contains a retun output\")"
   ]
  },
  {
   "cell_type": "markdown",
   "id": "ef24b9b9",
   "metadata": {},
   "source": [
    "### 6. After running the following code, what does the variable bacon contain?\n",
    "bacon = 22\n",
    "bacon + 1\n"
   ]
  },
  {
   "cell_type": "code",
   "execution_count": 25,
   "id": "c0361d1d",
   "metadata": {},
   "outputs": [
    {
     "name": "stdout",
     "output_type": "stream",
     "text": [
      "22\n",
      "23\n"
     ]
    }
   ],
   "source": [
    "bacon = 22\n",
    "bacon + 1\n",
    "#bacon variable still contains the value 22\n",
    "#if bacon + 1 is assigned to other vaiable then the value will be 23\n",
    "print(bacon)\n",
    "b = bacon + 1\n",
    "print(b)"
   ]
  },
  {
   "cell_type": "markdown",
   "id": "32750107",
   "metadata": {},
   "source": [
    "### 7. What should the values of the following two terms be?\n",
    "'spam' + 'spamspam'\n",
    "'spam' * 3\n"
   ]
  },
  {
   "cell_type": "code",
   "execution_count": 16,
   "id": "7f210d21",
   "metadata": {},
   "outputs": [
    {
     "data": {
      "text/plain": [
       "'spamspamspam'"
      ]
     },
     "execution_count": 16,
     "metadata": {},
     "output_type": "execute_result"
    }
   ],
   "source": [
    "'spam' + 'spamspam'\n",
    "# This is concatenate the strings"
   ]
  },
  {
   "cell_type": "code",
   "execution_count": 18,
   "id": "084fbe4f",
   "metadata": {},
   "outputs": [
    {
     "name": "stdout",
     "output_type": "stream",
     "text": [
      "Both the statemenst gives the same output\n"
     ]
    }
   ],
   "source": [
    "'spam' * 3\n",
    "# This multiplies the string \n",
    "print(\"Both the statemenst gives the same output\")"
   ]
  },
  {
   "cell_type": "markdown",
   "id": "fad8a8ea",
   "metadata": {},
   "source": [
    "### 8. Why is eggs a valid variable name while 100 is invalid?"
   ]
  },
  {
   "cell_type": "code",
   "execution_count": 28,
   "id": "922a8513",
   "metadata": {},
   "outputs": [
    {
     "name": "stdout",
     "output_type": "stream",
     "text": [
      "100 is a integer, Variables cannot be strings, booleans, or any other data type and Keywords cannot be used as the variables\n",
      "['False', 'None', 'True', 'and', 'as', 'assert', 'async', 'await', 'break', 'class', 'continue', 'def', 'del', 'elif', 'else', 'except', 'finally', 'for', 'from', 'global', 'if', 'import', 'in', 'is', 'lambda', 'nonlocal', 'not', 'or', 'pass', 'raise', 'return', 'try', 'while', 'with', 'yield']\n"
     ]
    }
   ],
   "source": [
    "print(\"100 is a integer, Variables cannot be strings, booleans, or any other data type and Keywords cannot be used as the variables\")\n",
    "#List of Keywords\n",
    "import keyword\n",
    "print(keyword.kwlist)"
   ]
  },
  {
   "cell_type": "code",
   "execution_count": null,
   "id": "983fb7a4",
   "metadata": {},
   "outputs": [],
   "source": []
  }
 ],
 "metadata": {
  "kernelspec": {
   "display_name": "Python 3",
   "language": "python",
   "name": "python3"
  },
  "language_info": {
   "codemirror_mode": {
    "name": "ipython",
    "version": 3
   },
   "file_extension": ".py",
   "mimetype": "text/x-python",
   "name": "python",
   "nbconvert_exporter": "python",
   "pygments_lexer": "ipython3",
   "version": "3.8.8"
  }
 },
 "nbformat": 4,
 "nbformat_minor": 5
}
